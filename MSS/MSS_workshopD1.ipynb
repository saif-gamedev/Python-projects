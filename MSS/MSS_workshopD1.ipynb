{
  "nbformat": 4,
  "nbformat_minor": 0,
  "metadata": {
    "colab": {
      "provenance": [],
      "authorship_tag": "ABX9TyMuBmLjWTYWbPowAztT/k1V",
      "include_colab_link": true
    },
    "kernelspec": {
      "name": "python3",
      "display_name": "Python 3"
    },
    "language_info": {
      "name": "python"
    }
  },
  "cells": [
    {
      "cell_type": "markdown",
      "metadata": {
        "id": "view-in-github",
        "colab_type": "text"
      },
      "source": [
        "<a href=\"https://colab.research.google.com/github/saif-gamedev/Python-projects/blob/main/MSS/MSS_workshopD1.ipynb\" target=\"_parent\"><img src=\"https://colab.research.google.com/assets/colab-badge.svg\" alt=\"Open In Colab\"/></a>"
      ]
    },
    {
      "cell_type": "code",
      "execution_count": null,
      "metadata": {
        "colab": {
          "base_uri": "https://localhost:8080/"
        },
        "id": "rd18iiWNL3wW",
        "outputId": "182928a1-8bf5-40cd-b042-ba949b7da79c"
      },
      "outputs": [
        {
          "output_type": "stream",
          "name": "stdout",
          "text": [
            "Helle world\n"
          ]
        }
      ],
      "source": [
        "print(\"Helle world\")"
      ]
    },
    {
      "cell_type": "code",
      "source": [
        "name = \"Saif\"\n",
        "print(name)"
      ],
      "metadata": {
        "colab": {
          "base_uri": "https://localhost:8080/"
        },
        "id": "g-rT3p2FMoH2",
        "outputId": "c5b7ad56-6349-439a-8853-8b4d4ebcdbe2"
      },
      "execution_count": null,
      "outputs": [
        {
          "output_type": "stream",
          "name": "stdout",
          "text": [
            "Saif\n"
          ]
        }
      ]
    },
    {
      "cell_type": "code",
      "source": [
        "# printing hello world\n",
        "\n",
        "'''printing\n",
        "   hello\n",
        "   world\n",
        "'''\n",
        "print(\"Hello world\")"
      ],
      "metadata": {
        "colab": {
          "base_uri": "https://localhost:8080/"
        },
        "id": "4BKRRvdhMvZn",
        "outputId": "ec9917ea-4d0c-4159-aa1b-ac4e857177bf"
      },
      "execution_count": null,
      "outputs": [
        {
          "output_type": "stream",
          "name": "stdout",
          "text": [
            "Hello world\n"
          ]
        }
      ]
    },
    {
      "cell_type": "code",
      "source": [
        "type(\"saif\")\n",
        "print(type(23.908))\n",
        "print(type(True))"
      ],
      "metadata": {
        "colab": {
          "base_uri": "https://localhost:8080/"
        },
        "id": "Y9qcOVR-NKIV",
        "outputId": "5e25024e-2281-42f5-9d6f-9ea2be7e9343"
      },
      "execution_count": null,
      "outputs": [
        {
          "output_type": "stream",
          "name": "stdout",
          "text": [
            "<class 'float'>\n",
            "<class 'bool'>\n"
          ]
        }
      ]
    },
    {
      "cell_type": "code",
      "source": [
        "a = int(66.5)\n",
        "print(a)"
      ],
      "metadata": {
        "colab": {
          "base_uri": "https://localhost:8080/"
        },
        "id": "FMvEvF0pNaTF",
        "outputId": "adbb1030-255c-48ef-bffc-441d35ee0b59"
      },
      "execution_count": null,
      "outputs": [
        {
          "output_type": "stream",
          "name": "stdout",
          "text": [
            "66\n"
          ]
        }
      ]
    },
    {
      "cell_type": "code",
      "source": [
        "x = 6\n",
        "y = 10\n",
        "print(x+y)\n",
        "print(x-y)\n",
        "print(x*y)\n",
        "print(x/y)\n",
        "print(x//y)\n",
        "print(x%y)\n",
        "print(x**y)"
      ],
      "metadata": {
        "colab": {
          "base_uri": "https://localhost:8080/"
        },
        "id": "ipuHvVuzNgyV",
        "outputId": "56135581-288e-4f77-98ab-3190a2de3345"
      },
      "execution_count": null,
      "outputs": [
        {
          "output_type": "stream",
          "name": "stdout",
          "text": [
            "16\n",
            "-4\n",
            "60\n",
            "0.6\n",
            "0\n",
            "6\n",
            "60466176\n"
          ]
        }
      ]
    },
    {
      "cell_type": "code",
      "source": [
        "x = 10\n",
        "x+=5\n",
        "print(x)"
      ],
      "metadata": {
        "colab": {
          "base_uri": "https://localhost:8080/"
        },
        "id": "f1LBcniZNz5d",
        "outputId": "2c91b5fe-fd9f-406b-cf36-07d3b1e519ae"
      },
      "execution_count": null,
      "outputs": [
        {
          "output_type": "stream",
          "name": "stdout",
          "text": [
            "15\n"
          ]
        }
      ]
    },
    {
      "cell_type": "code",
      "source": [
        "a = 7\n",
        "b = 6\n",
        "print(a==b)"
      ],
      "metadata": {
        "colab": {
          "base_uri": "https://localhost:8080/"
        },
        "id": "Sf8ZJA2vN-g9",
        "outputId": "22592b0c-da77-4274-e5c2-b1f85a4e5a7f"
      },
      "execution_count": null,
      "outputs": [
        {
          "output_type": "stream",
          "name": "stdout",
          "text": [
            "False\n"
          ]
        }
      ]
    },
    {
      "cell_type": "code",
      "source": [
        "a=12\n",
        "b=15\n",
        "andop = not(a>b and b>a)\n",
        "print(andop)"
      ],
      "metadata": {
        "colab": {
          "base_uri": "https://localhost:8080/"
        },
        "id": "ZkguO1lkOGxG",
        "outputId": "3f74bbf9-fb6e-42b6-eae0-f804ab2f764f"
      },
      "execution_count": null,
      "outputs": [
        {
          "output_type": "stream",
          "name": "stdout",
          "text": [
            "True\n"
          ]
        }
      ]
    },
    {
      "cell_type": "code",
      "source": [
        "name = input(\"Enter your name\")\n",
        "print(\"Hi\",name)\n"
      ],
      "metadata": {
        "colab": {
          "base_uri": "https://localhost:8080/"
        },
        "id": "ZqVHB7yBOSnd",
        "outputId": "47b51653-377c-4a9f-cf38-205886b3991a"
      },
      "execution_count": null,
      "outputs": [
        {
          "output_type": "stream",
          "name": "stdout",
          "text": [
            "Enter your namesaif\n",
            "Hi saif\n"
          ]
        }
      ]
    },
    {
      "cell_type": "code",
      "source": [
        "num1 = int(input(\"Enter 1st number\"))\n",
        "num2 = int(input(\"Enter second number\"))\n",
        "print(num1+num2)"
      ],
      "metadata": {
        "colab": {
          "base_uri": "https://localhost:8080/"
        },
        "id": "hD1gfWLiQIs-",
        "outputId": "54650712-8ae0-48a5-c16d-8140947b46e6"
      },
      "execution_count": null,
      "outputs": [
        {
          "output_type": "stream",
          "name": "stdout",
          "text": [
            "Enter 1st number7\n",
            "Enter second number6\n",
            "13\n"
          ]
        }
      ]
    },
    {
      "cell_type": "code",
      "source": [
        "for i in range(10):\n",
        "    print(i)"
      ],
      "metadata": {
        "colab": {
          "base_uri": "https://localhost:8080/"
        },
        "id": "yReu0LJTOu3E",
        "outputId": "616176e4-42b1-4b66-b2ce-f7991ff70147"
      },
      "execution_count": null,
      "outputs": [
        {
          "output_type": "stream",
          "name": "stdout",
          "text": [
            "0\n",
            "1\n",
            "2\n",
            "3\n",
            "4\n",
            "5\n",
            "6\n",
            "7\n",
            "8\n",
            "9\n"
          ]
        }
      ]
    },
    {
      "cell_type": "code",
      "source": [
        "fruits = [\"apple\",\"banana\",\"cherry\"]\n",
        "for i in fruits:\n",
        "    print(i)"
      ],
      "metadata": {
        "colab": {
          "base_uri": "https://localhost:8080/"
        },
        "id": "dS_Gb_p5Ozj9",
        "outputId": "8b32c2c5-f3c5-4507-cfcd-7bf652d5bebb"
      },
      "execution_count": null,
      "outputs": [
        {
          "output_type": "stream",
          "name": "stdout",
          "text": [
            "apple\n",
            "banana\n",
            "cherry\n"
          ]
        }
      ]
    },
    {
      "cell_type": "code",
      "source": [
        "count = 1\n",
        "while count<5:\n",
        "    print(\"Hello\")\n",
        "    count+=1"
      ],
      "metadata": {
        "colab": {
          "base_uri": "https://localhost:8080/"
        },
        "id": "v3WmNe4mO7Ds",
        "outputId": "165faa41-03a3-49f0-bcb8-70860a152b6a"
      },
      "execution_count": null,
      "outputs": [
        {
          "output_type": "stream",
          "name": "stdout",
          "text": [
            "Hello\n",
            "Hello\n",
            "Hello\n",
            "Hello\n"
          ]
        }
      ]
    },
    {
      "cell_type": "code",
      "source": [
        "string1 = \"hello world\"\n",
        "string2 = \"python\"\n",
        "print(string1[0:5])\n",
        "print(string2[0:6])\n",
        "print(string1+\" \"+string2)\n",
        "print(string1*5)"
      ],
      "metadata": {
        "colab": {
          "base_uri": "https://localhost:8080/"
        },
        "id": "rA2G41hSPEt1",
        "outputId": "8fe6290e-b324-4cd2-e8df-196c5e9c6926"
      },
      "execution_count": null,
      "outputs": [
        {
          "output_type": "stream",
          "name": "stdout",
          "text": [
            "hello\n",
            "python\n",
            "hello world python\n",
            "hello worldhello worldhello worldhello worldhello world\n"
          ]
        }
      ]
    },
    {
      "cell_type": "code",
      "source": [
        "num1 = int(input(\"Enter first number\"))\n",
        "num2 = int(input(\"Enter second number\"))\n",
        "if num1>num2:\n",
        "    print(num1,\"is greater\")\n",
        "else:\n",
        "    print(num2,\"is greater\")"
      ],
      "metadata": {
        "colab": {
          "base_uri": "https://localhost:8080/"
        },
        "id": "60e-ioPVQYl7",
        "outputId": "69bedcb8-84fc-4d7b-aad1-f1586574000f"
      },
      "execution_count": null,
      "outputs": [
        {
          "output_type": "stream",
          "name": "stdout",
          "text": [
            "Enter first number6\n",
            "Enter second number8\n",
            "8 is greater\n"
          ]
        }
      ]
    },
    {
      "cell_type": "code",
      "source": [
        "num1 = int(input(\"Enter first number\"))\n",
        "num2 = int(input(\"Enter second number\"))\n",
        "num3 = int(input(\"Enter third number\"))\n",
        "if num1>num2 and num1>num3:\n",
        "  print(num1,\"is greater\")\n",
        "elif num2>num3:\n",
        "    print(num2,\"is greater\")\n",
        "else:\n",
        "    print(num3,\"is greater\")"
      ],
      "metadata": {
        "colab": {
          "base_uri": "https://localhost:8080/"
        },
        "id": "3d0HlxcyROz8",
        "outputId": "74822555-a19d-47f3-a8ec-3da9d58bf685"
      },
      "execution_count": null,
      "outputs": [
        {
          "output_type": "stream",
          "name": "stdout",
          "text": [
            "Enter first number44\n",
            "Enter second number66\n",
            "Enter third number22\n",
            "66 is greater\n"
          ]
        }
      ]
    },
    {
      "cell_type": "code",
      "source": [
        "name = \"Saif\"\n",
        "print(name[2])\n",
        "print(name[-4])\n",
        "print(name.lower())\n",
        "print(name.strip())\n",
        "print(name.replace(\"S\",\"K\"))\n",
        "print(name.isnumeric())"
      ],
      "metadata": {
        "colab": {
          "base_uri": "https://localhost:8080/"
        },
        "id": "AhS0sR4uRVKL",
        "outputId": "658277c9-cff7-40b8-96ed-85e8efdc1e4d"
      },
      "execution_count": null,
      "outputs": [
        {
          "output_type": "stream",
          "name": "stdout",
          "text": [
            "i\n",
            "S\n",
            "saif\n",
            "Saif\n",
            "Kaif\n",
            "False\n"
          ]
        }
      ]
    },
    {
      "cell_type": "code",
      "source": [
        "fruits = [\"mangoes\",\"apples\",\"oranges\"]\n",
        "fruits.append(\"grapes\")\n",
        "print(fruits)\n",
        "fruits.insert(0,\"pineapple\")\n",
        "print(fruits)\n",
        "fruits.remove(\"oranges\")\n",
        "print(fruits)\n",
        "fruits.pop(2)\n",
        "print(fruits)\n",
        "print(fruits.index(\"grapes\"))"
      ],
      "metadata": {
        "colab": {
          "base_uri": "https://localhost:8080/"
        },
        "id": "rZq_pRHzR60y",
        "outputId": "c7becc84-c352-4510-f771-4a843dd57ab1"
      },
      "execution_count": null,
      "outputs": [
        {
          "output_type": "stream",
          "name": "stdout",
          "text": [
            "['mangoes', 'apples', 'oranges', 'grapes']\n",
            "['pineapple', 'mangoes', 'apples', 'oranges', 'grapes']\n",
            "['pineapple', 'mangoes', 'apples', 'grapes']\n",
            "['pineapple', 'mangoes', 'grapes']\n",
            "2\n"
          ]
        }
      ]
    },
    {
      "cell_type": "code",
      "source": [
        "my_tuple  = (1,2,9,3,4,8,9,9,9,9)\n",
        "\n",
        "print(my_tuple.count(1))\n",
        "print(len(my_tuple))\n",
        "print(my_tuple.index(9))"
      ],
      "metadata": {
        "colab": {
          "base_uri": "https://localhost:8080/"
        },
        "id": "Q0WRpU2vSFsK",
        "outputId": "1ca40fd1-4b0f-4be5-b308-6660df1ab9fd"
      },
      "execution_count": null,
      "outputs": [
        {
          "output_type": "stream",
          "name": "stdout",
          "text": [
            "1\n",
            "10\n",
            "2\n"
          ]
        }
      ]
    },
    {
      "cell_type": "code",
      "source": [
        "my_dictionary = {\"name\":\"Saif\",\"city\":\"Hyderabad\"}\n",
        "print(my_dictionary)\n",
        "print(my_dictionary[\"city\"])"
      ],
      "metadata": {
        "colab": {
          "base_uri": "https://localhost:8080/"
        },
        "id": "vf-aKsD6SMAj",
        "outputId": "b62b737b-d8fc-4865-caab-e2b16da85103"
      },
      "execution_count": null,
      "outputs": [
        {
          "output_type": "stream",
          "name": "stdout",
          "text": [
            "{'name': 'Saif', 'city': 'Hyderabad'}\n",
            "Hyderabad\n"
          ]
        }
      ]
    }
  ]
}